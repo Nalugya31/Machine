{
 "cells": [
  {
   "cell_type": "code",
   "execution_count": 72,
   "id": "7aa563a1-a218-456c-b86d-26fac8740088",
   "metadata": {},
   "outputs": [
    {
     "name": "stdout",
     "output_type": "stream",
     "text": [
      "Requirement already satisfied: contractions in /home/nalugya-vanessa/anaconda3/lib/python3.11/site-packages (0.1.73)\n",
      "Requirement already satisfied: textsearch>=0.0.21 in /home/nalugya-vanessa/anaconda3/lib/python3.11/site-packages (from contractions) (0.0.24)\n",
      "Requirement already satisfied: anyascii in /home/nalugya-vanessa/anaconda3/lib/python3.11/site-packages (from textsearch>=0.0.21->contractions) (0.3.2)\n",
      "Requirement already satisfied: pyahocorasick in /home/nalugya-vanessa/anaconda3/lib/python3.11/site-packages (from textsearch>=0.0.21->contractions) (2.0.0)\n",
      "Requirement already satisfied: pdfplumber in /home/nalugya-vanessa/anaconda3/lib/python3.11/site-packages (0.10.3)\n",
      "Requirement already satisfied: pdfminer.six==20221105 in /home/nalugya-vanessa/anaconda3/lib/python3.11/site-packages (from pdfplumber) (20221105)\n",
      "Requirement already satisfied: Pillow>=9.1 in /home/nalugya-vanessa/anaconda3/lib/python3.11/site-packages (from pdfplumber) (10.0.1)\n",
      "Requirement already satisfied: pypdfium2>=4.18.0 in /home/nalugya-vanessa/anaconda3/lib/python3.11/site-packages (from pdfplumber) (4.26.0)\n",
      "Requirement already satisfied: charset-normalizer>=2.0.0 in /home/nalugya-vanessa/anaconda3/lib/python3.11/site-packages (from pdfminer.six==20221105->pdfplumber) (2.0.4)\n",
      "Requirement already satisfied: cryptography>=36.0.0 in /home/nalugya-vanessa/anaconda3/lib/python3.11/site-packages (from pdfminer.six==20221105->pdfplumber) (41.0.7)\n",
      "Requirement already satisfied: cffi>=1.12 in /home/nalugya-vanessa/anaconda3/lib/python3.11/site-packages (from cryptography>=36.0.0->pdfminer.six==20221105->pdfplumber) (1.16.0)\n",
      "Requirement already satisfied: pycparser in /home/nalugya-vanessa/anaconda3/lib/python3.11/site-packages (from cffi>=1.12->cryptography>=36.0.0->pdfminer.six==20221105->pdfplumber) (2.21)\n"
     ]
    }
   ],
   "source": [
    "!pip install contractions\n",
    "!pip install pdfplumber\n",
    "import os\n",
    "import re\n",
    "# import PyPDF2\n",
    "import pdfplumber\n",
    "import pandas as pd\n",
    "import numpy as np\n",
    "\n",
    "import string # for text cleaning\n",
    "import contractions # for expanding short form words\n",
    "from tqdm import tqdm\n",
    "tqdm.pandas(desc=\"Progress Bar\")\n",
    "\n",
    "import seaborn as sns\n",
    "import matplotlib.pyplot as plt\n",
    "\n",
    "import warnings\n",
    "warnings.filterwarnings(\"ignore\")"
   ]
  },
  {
   "cell_type": "code",
   "execution_count": 73,
   "id": "23284f44-2e48-4ec9-8f2a-b02f8982e85a",
   "metadata": {},
   "outputs": [
    {
     "name": "stdout",
     "output_type": "stream",
     "text": [
      "Requirement already satisfied: python-docx in /home/nalugya-vanessa/anaconda3/lib/python3.11/site-packages (1.1.0)\n",
      "Requirement already satisfied: lxml>=3.1.0 in /home/nalugya-vanessa/anaconda3/lib/python3.11/site-packages (from python-docx) (4.9.3)\n",
      "Requirement already satisfied: typing-extensions in /home/nalugya-vanessa/anaconda3/lib/python3.11/site-packages (from python-docx) (4.9.0)\n"
     ]
    }
   ],
   "source": [
    "# Define a function to extract information from a PDF\n",
    "def extract_information(pdf_path):\n",
    "    with pdfplumber.open(pdf_path) as pdf:\n",
    "        resume_text = \"\"\n",
    "        for page in pdf.pages:\n",
    "            resume_text = \" \".join([resume_text, page.extract_text()])\n",
    "    resume_text = resume_text.strip()\n",
    "    return resume_text\n",
    "    \n",
    "!pip install python-docx\n",
    "\n",
    "from docx import Document\n",
    "from docx.oxml import OxmlElement\n",
    "\n",
    "def extract_information_docx(docx_path):\n",
    "    doc = Document(docx_path)\n",
    "    resume_text = \"\"\n",
    "\n",
    "    for paragraph in doc.paragraphs:\n",
    "        resume_text += paragraph.text + \" \"\n",
    "\n",
    "    for table in doc.tables:\n",
    "        for row in table.rows:\n",
    "            for cell in row.cells:\n",
    "                for paragraph in cell.paragraphs:\n",
    "                    resume_text += paragraph.text + \" \"\n",
    "\n",
    "    resume_text = resume_text.strip()\n",
    "    return resume_text"
   ]
  },
  {
   "cell_type": "code",
   "execution_count": 74,
   "id": "86a76f5a-8229-465d-9830-8d1191e8c2b5",
   "metadata": {},
   "outputs": [],
   "source": [
    "# Define a function to extract Skills, and Education\n",
    "def extract_details(resume_text):\n",
    "    # Define regular expressions to extract Skills & Education\n",
    "    skills_pattern = r'Skills\\s*([\\s\\S]*?)(?=\\n[A-Z]|$)'\n",
    "    education_pattern = r'Education\\s*([\\s\\S]*?)(?=\\n[A-Z]+[^\\n]*\\n|$)'\n",
    "    \n",
    "    # Get Skills & Education\n",
    "    skills_match = re.findall(skills_pattern, resume_text, re.DOTALL |re.IGNORECASE)\n",
    "    education_match = re.findall(education_pattern, resume_text, re.DOTALL |re.IGNORECASE)\n",
    "    \n",
    "    # Skills & Education\n",
    "    if len(skills_match)!=0:\n",
    "        skills = skills_match[0]\n",
    "    else:\n",
    "        skills_pattern = r'skills\\n((?:.*)*)' \n",
    "        skills_match = re.findall(skills_pattern, resume_text, re.DOTALL)\n",
    "        if len(skills_match)!=0:\n",
    "            skills = skills_match[0]\n",
    "        else:\n",
    "            skills = None\n",
    "            \n",
    "    if len(education_match)!=0:\n",
    "        education = education_match[0]\n",
    "    else:\n",
    "        education = None\n",
    "    \n",
    "    return {\n",
    "        'Skills': skills,\n",
    "        'Education': education\n",
    "    }"
   ]
  },
  {
   "cell_type": "code",
   "execution_count": 75,
   "id": "bed0602f-e338-40dd-8364-7137b67edbba",
   "metadata": {},
   "outputs": [
    {
     "name": "stdout",
     "output_type": "stream",
     "text": [
      "Extraction Done!\n",
      "CPU times: user 374 ms, sys: 4.03 ms, total: 378 ms\n",
      "Wall time: 399 ms\n"
     ]
    }
   ],
   "source": [
    "%%time\n",
    "\n",
    "# Your existing code\n",
    "data_folder = 'media/cvs'\n",
    "resume_data = []\n",
    "\n",
    "# Iterate through sub-folders and files\n",
    "for category_folder in os.listdir(data_folder):\n",
    "    category_path = os.path.join(data_folder, category_folder)\n",
    "    if os.path.isdir(category_path):\n",
    "        for file in os.listdir(category_path):\n",
    "            file_path = os.path.join(category_path, file)\n",
    "            if file.endswith('.pdf'):\n",
    "                text = extract_information(file_path)\n",
    "            elif file.endswith('.docx'):\n",
    "                text = extract_information_docx(file_path)\n",
    "            else:\n",
    "                continue\n",
    "\n",
    "            details = extract_details(text)\n",
    "            details['ID'] = file.replace('.pdf', '').replace('.docx', '')\n",
    "            details['Category'] = category_folder\n",
    "            resume_data.append(details)\n",
    "\n",
    "print('Extraction Done!')"
   ]
  },
  {
   "cell_type": "code",
   "execution_count": 76,
   "id": "a4bb4433-41fa-4c4d-903c-ee1cb01b7f6a",
   "metadata": {},
   "outputs": [],
   "source": [
    "resume_df = pd.DataFrame(resume_data)\n",
    "resume_df.to_csv('./pdf_extracted_skills_education.csv', index=False)"
   ]
  },
  {
   "cell_type": "code",
   "execution_count": 77,
   "id": "41d694eb-502d-416c-a85f-51e0e0b5ce17",
   "metadata": {},
   "outputs": [
    {
     "data": {
      "text/plain": [
       "(5, 4)"
      ]
     },
     "execution_count": 77,
     "metadata": {},
     "output_type": "execute_result"
    }
   ],
   "source": [
    "resume_df.shape"
   ]
  },
  {
   "cell_type": "code",
   "execution_count": 78,
   "id": "8bce491f-7d51-4460-8987-47b562e40cf9",
   "metadata": {},
   "outputs": [
    {
     "data": {
      "text/plain": [
       "Skills       2\n",
       "Education    1\n",
       "ID           0\n",
       "Category     0\n",
       "dtype: int64"
      ]
     },
     "execution_count": 78,
     "metadata": {},
     "output_type": "execute_result"
    }
   ],
   "source": [
    "# Null values\n",
    "resume_df.isna().sum()\n",
    "\n",
    "# It seems that Education was not extracted properly"
   ]
  },
  {
   "cell_type": "code",
   "execution_count": 79,
   "id": "18673bd5-5484-4c59-b7da-48cb288dcdd1",
   "metadata": {},
   "outputs": [
    {
     "name": "stdout",
     "output_type": "stream",
     "text": [
      "  Skills Education                      ID Category\n",
      "4   None      None  sprint_meeting_minutes       IT\n"
     ]
    }
   ],
   "source": [
    "# We have 15 Resumes where Skills & Education were not extracted\n",
    "# So, let's remove them\n",
    "\n",
    "print(resume_df[(resume_df.Skills.isna() & resume_df.Education.isna())])"
   ]
  },
  {
   "cell_type": "code",
   "execution_count": 80,
   "id": "87f15359-2a0c-4001-9024-596c335aeaa9",
   "metadata": {},
   "outputs": [
    {
     "name": "stdout",
     "output_type": "stream",
     "text": [
      "(4, 4)\n"
     ]
    },
    {
     "data": {
      "text/html": [
       "<div>\n",
       "<style scoped>\n",
       "    .dataframe tbody tr th:only-of-type {\n",
       "        vertical-align: middle;\n",
       "    }\n",
       "\n",
       "    .dataframe tbody tr th {\n",
       "        vertical-align: top;\n",
       "    }\n",
       "\n",
       "    .dataframe thead th {\n",
       "        text-align: right;\n",
       "    }\n",
       "</style>\n",
       "<table border=\"1\" class=\"dataframe\">\n",
       "  <thead>\n",
       "    <tr style=\"text-align: right;\">\n",
       "      <th></th>\n",
       "      <th>Skills</th>\n",
       "      <th>Education</th>\n",
       "      <th>ID</th>\n",
       "      <th>Category</th>\n",
       "    </tr>\n",
       "  </thead>\n",
       "  <tbody>\n",
       "    <tr>\n",
       "      <th>0</th>\n",
       "      <td>● Background and advanced knowledge in compute...</td>\n",
       "      <td>● Refactory Academy | Software Engineering | M...</td>\n",
       "      <td>VANESSA SUZAN NALUGYA</td>\n",
       "      <td>IT</td>\n",
       "    </tr>\n",
       "    <tr>\n",
       "      <th>1</th>\n",
       "      <td>:  Computer-literate, well-versed with most co...</td>\n",
       "      <td>AND QUALIFICATIONS    NDEJJE UNIVERSITY  2010-...</td>\n",
       "      <td>BRENDA CV</td>\n",
       "      <td>IT</td>\n",
       "    </tr>\n",
       "    <tr>\n",
       "      <th>2</th>\n",
       "      <td>● Backgroundandadvancedknowledgeincomputerdeve...</td>\n",
       "      <td>● Refactory Academy | Software Engineering | M...</td>\n",
       "      <td>CV</td>\n",
       "      <td>IT</td>\n",
       "    </tr>\n",
       "    <tr>\n",
       "      <th>3</th>\n",
       "      <td>None</td>\n",
       "      <td>: University of the North</td>\n",
       "      <td>John_Snow_CV</td>\n",
       "      <td>IT</td>\n",
       "    </tr>\n",
       "  </tbody>\n",
       "</table>\n",
       "</div>"
      ],
      "text/plain": [
       "                                              Skills  \\\n",
       "0  ● Background and advanced knowledge in compute...   \n",
       "1  :  Computer-literate, well-versed with most co...   \n",
       "2  ● Backgroundandadvancedknowledgeincomputerdeve...   \n",
       "3                                               None   \n",
       "\n",
       "                                           Education                     ID  \\\n",
       "0  ● Refactory Academy | Software Engineering | M...  VANESSA SUZAN NALUGYA   \n",
       "1  AND QUALIFICATIONS    NDEJJE UNIVERSITY  2010-...              BRENDA CV   \n",
       "2  ● Refactory Academy | Software Engineering | M...                     CV   \n",
       "3                          : University of the North           John_Snow_CV   \n",
       "\n",
       "  Category  \n",
       "0       IT  \n",
       "1       IT  \n",
       "2       IT  \n",
       "3       IT  "
      ]
     },
     "execution_count": 80,
     "metadata": {},
     "output_type": "execute_result"
    }
   ],
   "source": [
    "# We are left with 2469 resumes after removing those 15 resumes with null data in both of them\n",
    "\n",
    "print(resume_df[~(resume_df['Skills'].isna() & resume_df['Education'].isna())].shape)\n",
    "\n",
    "cv_df = resume_df[~(resume_df['Skills'].isna() & resume_df['Education'].isna())].reset_index(drop=True)\n",
    "cv_df.head()"
   ]
  },
  {
   "cell_type": "code",
   "execution_count": 70,
   "id": "a3838c94-254d-4b03-852e-8ae181f62736",
   "metadata": {},
   "outputs": [
    {
     "data": {
      "text/plain": [
       "Skills       0\n",
       "Education    2\n",
       "ID           0\n",
       "Category     0\n",
       "dtype: int64"
      ]
     },
     "execution_count": 70,
     "metadata": {},
     "output_type": "execute_result"
    }
   ],
   "source": [
    "# New number of null values in Skills & Education Section\n",
    "cv_df.isna().sum()"
   ]
  },
  {
   "cell_type": "code",
   "execution_count": 71,
   "id": "78eefc0b-8d6c-4223-b672-ff8e15ecedeb",
   "metadata": {},
   "outputs": [
    {
     "data": {
      "text/html": [
       "<div>\n",
       "<style scoped>\n",
       "    .dataframe tbody tr th:only-of-type {\n",
       "        vertical-align: middle;\n",
       "    }\n",
       "\n",
       "    .dataframe tbody tr th {\n",
       "        vertical-align: top;\n",
       "    }\n",
       "\n",
       "    .dataframe thead th {\n",
       "        text-align: right;\n",
       "    }\n",
       "</style>\n",
       "<table border=\"1\" class=\"dataframe\">\n",
       "  <thead>\n",
       "    <tr style=\"text-align: right;\">\n",
       "      <th></th>\n",
       "      <th>Skills</th>\n",
       "      <th>Education</th>\n",
       "      <th>ID</th>\n",
       "      <th>Category</th>\n",
       "    </tr>\n",
       "  </thead>\n",
       "  <tbody>\n",
       "  </tbody>\n",
       "</table>\n",
       "</div>"
      ],
      "text/plain": [
       "Empty DataFrame\n",
       "Columns: [Skills, Education, ID, Category]\n",
       "Index: []"
      ]
     },
     "execution_count": 71,
     "metadata": {},
     "output_type": "execute_result"
    }
   ],
   "source": [
    "# Null values in Skills Section\n",
    "cv_df[cv_df.Skills.isna()]"
   ]
  },
  {
   "cell_type": "code",
   "execution_count": 38,
   "id": "de1a8d0c-36c1-42c9-b1b4-02d03f0f4ae6",
   "metadata": {},
   "outputs": [
    {
     "data": {
      "text/html": [
       "<div>\n",
       "<style scoped>\n",
       "    .dataframe tbody tr th:only-of-type {\n",
       "        vertical-align: middle;\n",
       "    }\n",
       "\n",
       "    .dataframe tbody tr th {\n",
       "        vertical-align: top;\n",
       "    }\n",
       "\n",
       "    .dataframe thead th {\n",
       "        text-align: right;\n",
       "    }\n",
       "</style>\n",
       "<table border=\"1\" class=\"dataframe\">\n",
       "  <thead>\n",
       "    <tr style=\"text-align: right;\">\n",
       "      <th></th>\n",
       "      <th>Skills</th>\n",
       "      <th>Education</th>\n",
       "      <th>ID</th>\n",
       "      <th>Category</th>\n",
       "    </tr>\n",
       "  </thead>\n",
       "  <tbody>\n",
       "  </tbody>\n",
       "</table>\n",
       "</div>"
      ],
      "text/plain": [
       "Empty DataFrame\n",
       "Columns: [Skills, Education, ID, Category]\n",
       "Index: []"
      ]
     },
     "execution_count": 38,
     "metadata": {},
     "output_type": "execute_result"
    }
   ],
   "source": [
    "# Null values in Education Section\n",
    "cv_df[cv_df.Education.isna()]\n"
   ]
  },
  {
   "cell_type": "code",
   "execution_count": 39,
   "id": "b581499e-b865-4761-a868-4e7dd33716b0",
   "metadata": {},
   "outputs": [
    {
     "data": {
      "text/plain": [
       "Category\n",
       "IT    1\n",
       "Name: count, dtype: int64"
      ]
     },
     "execution_count": 39,
     "metadata": {},
     "output_type": "execute_result"
    }
   ],
   "source": [
    "cv_df.Category.value_counts()"
   ]
  },
  {
   "cell_type": "code",
   "execution_count": 40,
   "id": "5567bddd-d342-47a1-b120-0bbb733e1a0e",
   "metadata": {
    "scrolled": true
   },
   "outputs": [
    {
     "name": "stdout",
     "output_type": "stream",
     "text": [
      "Requirement already satisfied: contractions in /home/nalugya-vanessa/anaconda3/lib/python3.11/site-packages (0.1.73)\n",
      "Requirement already satisfied: textsearch>=0.0.21 in /home/nalugya-vanessa/anaconda3/lib/python3.11/site-packages (from contractions) (0.0.24)\n",
      "Requirement already satisfied: anyascii in /home/nalugya-vanessa/anaconda3/lib/python3.11/site-packages (from textsearch>=0.0.21->contractions) (0.3.2)\n",
      "Requirement already satisfied: pyahocorasick in /home/nalugya-vanessa/anaconda3/lib/python3.11/site-packages (from textsearch>=0.0.21->contractions) (2.0.0)\n"
     ]
    }
   ],
   "source": [
    "!pip install contractions\n",
    "\n",
    "import pandas as pd\n",
    "import string\n",
    "import contractions\n",
    "import re\n",
    "from tqdm import tqdm\n",
    "\n",
    "def text_cleaning(text: str) -> str:\n",
    "    if pd.isnull(text):\n",
    "        return\n",
    "    \n",
    "    # lower-case everything\n",
    "    text = text.lower().strip()\n",
    "    \n",
    "    # For removing punctuations\n",
    "    translator = str.maketrans('', '', string.punctuation)\n",
    "    \n",
    "    # Expand all the short-form words\n",
    "    text = contractions.fix(text)\n",
    "    \n",
    "    # Remove any special chars\n",
    "    text = re.sub(r'http\\S+|www\\S+|https\\S+', '', text)  # Remove URLs\n",
    "    text = re.sub(r'\\S+@\\S+', '', text)  # Remove emails\n",
    "    text = re.sub(r'\\b\\d{1,3}[-./]?\\d{1,3}[-./]?\\d{1,4}\\b', '', text)  # Remove phone numbers\n",
    "    text = text.translate(translator)  # Remove punctuations\n",
    "    text = re.sub(r'[^a-zA-Z]', ' ', text)  # Remove other non-alphanumeric characters\n",
    "    \n",
    "    return text.strip()\n",
    "\n",
    "# Let's stitch together Skills & Education, similar to given in job description.\n",
    "resume_df = cv_df.copy()  # Assuming cv_df is your original DataFrame\n",
    "\n",
    "# Filling the null values in Skills & Education with Empty String before concatenating them\n",
    "resume_df = resume_df.fillna(value='')\n",
    "\n",
    "resume_df['CV'] = resume_df['Skills'] + ' ' + resume_df['Education']\n",
    "resume_df['CV'] = resume_df['CV'].apply(text_cleaning)\n"
   ]
  },
  {
   "cell_type": "code",
   "execution_count": 41,
   "id": "8b748aa0-333a-4ab0-9a8f-29e6a639a889",
   "metadata": {},
   "outputs": [
    {
     "data": {
      "text/html": [
       "<div>\n",
       "<style scoped>\n",
       "    .dataframe tbody tr th:only-of-type {\n",
       "        vertical-align: middle;\n",
       "    }\n",
       "\n",
       "    .dataframe tbody tr th {\n",
       "        vertical-align: top;\n",
       "    }\n",
       "\n",
       "    .dataframe thead th {\n",
       "        text-align: right;\n",
       "    }\n",
       "</style>\n",
       "<table border=\"1\" class=\"dataframe\">\n",
       "  <thead>\n",
       "    <tr style=\"text-align: right;\">\n",
       "      <th></th>\n",
       "      <th>Skills</th>\n",
       "      <th>Education</th>\n",
       "      <th>ID</th>\n",
       "      <th>Category</th>\n",
       "      <th>CV</th>\n",
       "    </tr>\n",
       "  </thead>\n",
       "  <tbody>\n",
       "    <tr>\n",
       "      <th>0</th>\n",
       "      <td>● Backgroundandadvancedknowledgeincomputerdeve...</td>\n",
       "      <td>● Refactory Academy | Software Engineering | M...</td>\n",
       "      <td>CV</td>\n",
       "      <td>IT</td>\n",
       "      <td>backgroundandadvancedknowledgeincomputerdevelo...</td>\n",
       "    </tr>\n",
       "  </tbody>\n",
       "</table>\n",
       "</div>"
      ],
      "text/plain": [
       "                                              Skills  \\\n",
       "0  ● Backgroundandadvancedknowledgeincomputerdeve...   \n",
       "\n",
       "                                           Education  ID Category  \\\n",
       "0  ● Refactory Academy | Software Engineering | M...  CV       IT   \n",
       "\n",
       "                                                  CV  \n",
       "0  backgroundandadvancedknowledgeincomputerdevelo...  "
      ]
     },
     "execution_count": 41,
     "metadata": {},
     "output_type": "execute_result"
    }
   ],
   "source": [
    "resume_df.head()"
   ]
  },
  {
   "cell_type": "code",
   "execution_count": 42,
   "id": "113dab52-018c-4360-9860-8bc869832fdd",
   "metadata": {},
   "outputs": [
    {
     "data": {
      "text/html": [
       "<div>\n",
       "<style scoped>\n",
       "    .dataframe tbody tr th:only-of-type {\n",
       "        vertical-align: middle;\n",
       "    }\n",
       "\n",
       "    .dataframe tbody tr th {\n",
       "        vertical-align: top;\n",
       "    }\n",
       "\n",
       "    .dataframe thead th {\n",
       "        text-align: right;\n",
       "    }\n",
       "</style>\n",
       "<table border=\"1\" class=\"dataframe\">\n",
       "  <thead>\n",
       "    <tr style=\"text-align: right;\">\n",
       "      <th></th>\n",
       "      <th>Category</th>\n",
       "      <th>count</th>\n",
       "      <th>mean</th>\n",
       "      <th>std</th>\n",
       "      <th>min</th>\n",
       "      <th>5%</th>\n",
       "      <th>50%</th>\n",
       "      <th>80%</th>\n",
       "      <th>90%</th>\n",
       "      <th>95%</th>\n",
       "      <th>max</th>\n",
       "    </tr>\n",
       "  </thead>\n",
       "  <tbody>\n",
       "    <tr>\n",
       "      <th>0</th>\n",
       "      <td>IT</td>\n",
       "      <td>1.0</td>\n",
       "      <td>24.0</td>\n",
       "      <td>NaN</td>\n",
       "      <td>24.0</td>\n",
       "      <td>24.0</td>\n",
       "      <td>24.0</td>\n",
       "      <td>24.0</td>\n",
       "      <td>24.0</td>\n",
       "      <td>24.0</td>\n",
       "      <td>24.0</td>\n",
       "    </tr>\n",
       "  </tbody>\n",
       "</table>\n",
       "</div>"
      ],
      "text/plain": [
       "  Category  count  mean  std   min    5%   50%   80%   90%   95%   max\n",
       "0       IT    1.0  24.0  NaN  24.0  24.0  24.0  24.0  24.0  24.0  24.0"
      ]
     },
     "execution_count": 42,
     "metadata": {},
     "output_type": "execute_result"
    }
   ],
   "source": [
    "category_stats = []\n",
    "\n",
    "for category in resume_df['Category'].unique():\n",
    "    category_wise_cv = resume_df[resume_df['Category'] == category]['CV']\n",
    "    stats = category_wise_cv.str.split().str.len().describe(percentiles=[0.05, 0.5, 0.8, 0.9, 0.95])\n",
    "    category_stats.append({'Category': category, **stats.to_dict()})\n",
    "\n",
    "stats_df = pd.DataFrame(category_stats)\n",
    "\n",
    "# Display the resulting DataFrame\n",
    "stats_df"
   ]
  },
  {
   "cell_type": "code",
   "execution_count": 43,
   "id": "8541a7bc-eca2-44c0-9e64-31f19d83f709",
   "metadata": {},
   "outputs": [
    {
     "name": "stdout",
     "output_type": "stream",
     "text": [
      "Requirement already satisfied: torch in /home/nalugya-vanessa/anaconda3/lib/python3.11/site-packages (2.1.2)\n",
      "Requirement already satisfied: filelock in /home/nalugya-vanessa/anaconda3/lib/python3.11/site-packages (from torch) (3.13.1)\n",
      "Requirement already satisfied: typing-extensions in /home/nalugya-vanessa/anaconda3/lib/python3.11/site-packages (from torch) (4.9.0)\n",
      "Requirement already satisfied: sympy in /home/nalugya-vanessa/anaconda3/lib/python3.11/site-packages (from torch) (1.12)\n",
      "Requirement already satisfied: networkx in /home/nalugya-vanessa/anaconda3/lib/python3.11/site-packages (from torch) (3.1)\n",
      "Requirement already satisfied: jinja2 in /home/nalugya-vanessa/anaconda3/lib/python3.11/site-packages (from torch) (3.1.2)\n",
      "Requirement already satisfied: fsspec in /home/nalugya-vanessa/anaconda3/lib/python3.11/site-packages (from torch) (2023.10.0)\n",
      "Requirement already satisfied: nvidia-cuda-nvrtc-cu12==12.1.105 in /home/nalugya-vanessa/anaconda3/lib/python3.11/site-packages (from torch) (12.1.105)\n",
      "Requirement already satisfied: nvidia-cuda-runtime-cu12==12.1.105 in /home/nalugya-vanessa/anaconda3/lib/python3.11/site-packages (from torch) (12.1.105)\n",
      "Requirement already satisfied: nvidia-cuda-cupti-cu12==12.1.105 in /home/nalugya-vanessa/anaconda3/lib/python3.11/site-packages (from torch) (12.1.105)\n",
      "Requirement already satisfied: nvidia-cudnn-cu12==8.9.2.26 in /home/nalugya-vanessa/anaconda3/lib/python3.11/site-packages (from torch) (8.9.2.26)\n",
      "Requirement already satisfied: nvidia-cublas-cu12==12.1.3.1 in /home/nalugya-vanessa/anaconda3/lib/python3.11/site-packages (from torch) (12.1.3.1)\n",
      "Requirement already satisfied: nvidia-cufft-cu12==11.0.2.54 in /home/nalugya-vanessa/anaconda3/lib/python3.11/site-packages (from torch) (11.0.2.54)\n",
      "Requirement already satisfied: nvidia-curand-cu12==10.3.2.106 in /home/nalugya-vanessa/anaconda3/lib/python3.11/site-packages (from torch) (10.3.2.106)\n",
      "Requirement already satisfied: nvidia-cusolver-cu12==11.4.5.107 in /home/nalugya-vanessa/anaconda3/lib/python3.11/site-packages (from torch) (11.4.5.107)\n",
      "Requirement already satisfied: nvidia-cusparse-cu12==12.1.0.106 in /home/nalugya-vanessa/anaconda3/lib/python3.11/site-packages (from torch) (12.1.0.106)\n",
      "Requirement already satisfied: nvidia-nccl-cu12==2.18.1 in /home/nalugya-vanessa/anaconda3/lib/python3.11/site-packages (from torch) (2.18.1)\n",
      "Requirement already satisfied: nvidia-nvtx-cu12==12.1.105 in /home/nalugya-vanessa/anaconda3/lib/python3.11/site-packages (from torch) (12.1.105)\n",
      "Requirement already satisfied: triton==2.1.0 in /home/nalugya-vanessa/anaconda3/lib/python3.11/site-packages (from torch) (2.1.0)\n",
      "Requirement already satisfied: nvidia-nvjitlink-cu12 in /home/nalugya-vanessa/anaconda3/lib/python3.11/site-packages (from nvidia-cusolver-cu12==11.4.5.107->torch) (12.3.101)\n",
      "Requirement already satisfied: MarkupSafe>=2.0 in /home/nalugya-vanessa/anaconda3/lib/python3.11/site-packages (from jinja2->torch) (2.1.3)\n",
      "Requirement already satisfied: mpmath>=0.19 in /home/nalugya-vanessa/anaconda3/lib/python3.11/site-packages (from sympy->torch) (1.3.0)\n"
     ]
    }
   ],
   "source": [
    "!pip install torch\n",
    "\n",
    "import torch\n",
    "from datasets import load_dataset\n",
    "from transformers import DistilBertTokenizer, DistilBertModel\n",
    "from sklearn.metrics.pairwise import cosine_similarity"
   ]
  },
  {
   "cell_type": "code",
   "execution_count": 44,
   "id": "bf84b8a6-6ac5-4e07-b233-185d8da73f2f",
   "metadata": {},
   "outputs": [
    {
     "name": "stdout",
     "output_type": "stream",
     "text": [
      "Original: \n",
      "Job Description\n",
      "\n",
      " \n",
      "\n",
      "Deliver and manage cybersecurity services and solutions .\n",
      "Perform vulnerability assessment using VA tools (Nessus, Burp, etc…)\n",
      "Perform external and internal penetration tests including manual testing for vulnerability exploitation (preparing scripts etc.).\n",
      "Perform web app and mobile app (android & iOS) penetration tests\n",
      "Perform configuration review for network devices\n",
      "Perform source code reviews\n",
      "Identify risks and its impact on business\n",
      "Develop remediation plans and implement fixes\n",
      "Manage client relation as part of project delivery\n",
      "Work with company’s team to develop and enhance Business’s Security services and solutions.\n",
      "Support the sales team during pre-sales activities\n",
      " \n",
      "\n",
      " \n",
      "\n",
      "Required Experience & Skills\n",
      "\n",
      "5+ years of experience in pen testing .\n",
      "Technical skills in external and internal penetration tests.\n",
      "Technical skills in web application testing\n",
      "Vulnerability assessment and business impact analysis.\n",
      "Familiar with manual testing for vulnerability exploitation (preparing scripts etc.).\n",
      "Familiar with testing tools (Nessus, Burp)\n",
      "Strong reporting, communication and presentation skills.\n",
      " \n",
      "\n",
      "Education\n",
      "\n",
      "Bachelor/Master’s degree in computer science or equivalent.\n",
      "Certifications in offensive security (OSCP or equivalent) preferred.\n",
      "\n",
      "\n",
      "Cleaned: \n",
      "Job Description\n",
      "\n",
      " \n",
      "\n",
      "Deliver and manage cybersecurity services and solutions \n",
      "Perform vulnerability assessment using VA tools Nessus Burp etc\n",
      "Perform external and internal penetration tests including manual testing for vulnerability exploitation preparing scripts etc\n",
      "Perform web app and mobile app android  iOS penetration tests\n",
      "Perform configuration review for network devices\n",
      "Perform source code reviews\n",
      "Identify risks and its impact on business\n",
      "Develop remediation plans and implement fixes\n",
      "Manage client relation as part of project delivery\n",
      "Work with companys team to develop and enhance Businesss Security services and solutions\n",
      "Support the sales team during presales activities\n",
      " \n",
      "\n",
      " \n",
      "\n",
      "Required Experience  Skills\n",
      "\n",
      "5 years of experience in pen testing \n",
      "Technical skills in external and internal penetration tests\n",
      "Technical skills in web application testing\n",
      "Vulnerability assessment and business impact analysis\n",
      "Familiar with manual testing for vulnerability exploitation preparing scripts etc\n",
      "Familiar with testing tools Nessus Burp\n",
      "Strong reporting communication and presentation skills\n",
      " \n",
      "\n",
      "Education\n",
      "\n",
      "BachelorMasters degree in computer science or equivalent\n",
      "Certifications in offensive security OSCP or equivalent preferred\n",
      "\n",
      "\n",
      "\n"
     ]
    }
   ],
   "source": [
    "import re\n",
    "\n",
    "def clean_text(text):\n",
    "    # Remove special characters and non-alphanumeric characters\n",
    "    cleaned_text = re.sub(r'[^a-zA-Z0-9\\s]', '', text)\n",
    "    return cleaned_text\n",
    "\n",
    "# Example job descriptions\n",
    "job_descriptions = [\n",
    "    '''\n",
    "Job Description\n",
    "\n",
    " \n",
    "\n",
    "Deliver and manage cybersecurity services and solutions .\n",
    "Perform vulnerability assessment using VA tools (Nessus, Burp, etc…)\n",
    "Perform external and internal penetration tests including manual testing for vulnerability exploitation (preparing scripts etc.).\n",
    "Perform web app and mobile app (android & iOS) penetration tests\n",
    "Perform configuration review for network devices\n",
    "Perform source code reviews\n",
    "Identify risks and its impact on business\n",
    "Develop remediation plans and implement fixes\n",
    "Manage client relation as part of project delivery\n",
    "Work with company’s team to develop and enhance Business’s Security services and solutions.\n",
    "Support the sales team during pre-sales activities\n",
    " \n",
    "\n",
    " \n",
    "\n",
    "Required Experience & Skills\n",
    "\n",
    "5+ years of experience in pen testing .\n",
    "Technical skills in external and internal penetration tests.\n",
    "Technical skills in web application testing\n",
    "Vulnerability assessment and business impact analysis.\n",
    "Familiar with manual testing for vulnerability exploitation (preparing scripts etc.).\n",
    "Familiar with testing tools (Nessus, Burp)\n",
    "Strong reporting, communication and presentation skills.\n",
    " \n",
    "\n",
    "Education\n",
    "\n",
    "Bachelor/Master’s degree in computer science or equivalent.\n",
    "Certifications in offensive security (OSCP or equivalent) preferred.\n",
    "\n",
    "'''\n",
    "]\n",
    "\n",
    "# Apply the cleaning function to each job description\n",
    "cleaned_descriptions = [clean_text(desc) for desc in job_descriptions]\n",
    "\n",
    "# Display the cleaned job descriptions\n",
    "for original, cleaned in zip(job_descriptions, cleaned_descriptions):\n",
    "    print(f\"Original: {original}\\nCleaned: {cleaned}\\n\")\n"
   ]
  },
  {
   "cell_type": "code",
   "execution_count": 45,
   "id": "3da56a54-8b9c-4289-a72c-6edc6cf78c59",
   "metadata": {},
   "outputs": [],
   "source": [
    "# We have 15 Resumes where Skills & Education were not extracted -- REFER EDA notebook\n",
    "# So, let's remove them\n",
    "cv_df = resume_df[~(resume_df['Skills'].isna() & resume_df['Education'].isna())].reset_index(drop=True)\n",
    "\n",
    "# Filling the null values in Skills & Education with Empty String before concatinating them\n",
    "cv_df = cv_df.fillna(value='')\n",
    "\n",
    "# Let's stitch together Skills & Education, similar to given in job description.\n",
    "cv_df['CV'] = cv_df['Skills'] + ' ' + cv_df['Education']\n",
    "\n",
    "# Doing text cleaning\n",
    "cv_df['CV'] = cv_df['CV'].apply(text_cleaning)"
   ]
  },
  {
   "cell_type": "code",
   "execution_count": 46,
   "id": "04bd5e4b-e29a-4a1d-b908-a539c4508e49",
   "metadata": {},
   "outputs": [
    {
     "data": {
      "text/plain": [
       "(1, 5)"
      ]
     },
     "execution_count": 46,
     "metadata": {},
     "output_type": "execute_result"
    }
   ],
   "source": [
    "cv_df.shape"
   ]
  },
  {
   "cell_type": "code",
   "execution_count": 47,
   "id": "1c25a4e3-01bd-4e47-953b-b0b89e895368",
   "metadata": {},
   "outputs": [],
   "source": [
    "\n",
    "\n",
    "# Sample resumes (replace with your extracted resume data)\n",
    "resumes = cv_df['CV'].to_list()"
   ]
  },
  {
   "cell_type": "code",
   "execution_count": 48,
   "id": "2ef52967-5cec-4590-a8a0-3cd2a85e01b7",
   "metadata": {},
   "outputs": [
    {
     "name": "stdout",
     "output_type": "stream",
     "text": [
      "CPU times: user 1.38 s, sys: 227 ms, total: 1.61 s\n",
      "Wall time: 2.51 s\n"
     ]
    }
   ],
   "source": [
    "%%time\n",
    "\n",
    "# Initialize the DistilBERT tokenizer and model\n",
    "tokenizer = DistilBertTokenizer.from_pretrained('distilbert-base-uncased')\n",
    "model = DistilBertModel.from_pretrained('distilbert-base-uncased')\n",
    "\n",
    "\n",
    "# Tokenize and embed job descriptions\n",
    "job_description_embeddings = []\n",
    "for description in job_descriptions:\n",
    "    tokens = tokenizer(description, padding=True, truncation=True, return_tensors='pt')\n",
    "    with torch.no_grad():\n",
    "        output = model(**tokens)\n",
    "    embeddings = output.last_hidden_state.mean(dim=1).numpy()\n",
    "    job_description_embeddings.append(embeddings[0])  # Flatten the embeddings to 1D\n",
    "\n",
    "# Tokenize and embed resumes\n",
    "resume_embeddings = []\n",
    "for resume in resumes:\n",
    "    tokens = tokenizer(resume, padding=True, truncation=True, return_tensors='pt')\n",
    "    with torch.no_grad():\n",
    "        output = model(**tokens)\n",
    "    embeddings = output.last_hidden_state.mean(dim=1).numpy()\n",
    "    resume_embeddings.append(embeddings[0])  # Flatten the embeddings to 1D"
   ]
  },
  {
   "cell_type": "code",
   "execution_count": 49,
   "id": "c273a6fc-6e20-4389-a886-364dcd843dce",
   "metadata": {},
   "outputs": [
    {
     "data": {
      "text/plain": [
       "array([[0.7740958]], dtype=float32)"
      ]
     },
     "execution_count": 49,
     "metadata": {},
     "output_type": "execute_result"
    }
   ],
   "source": [
    "# Calculate cosine similarity between job descriptions and resumes\n",
    "similarity_scores = cosine_similarity(job_description_embeddings, resume_embeddings)\n",
    "similarity_scores"
   ]
  },
  {
   "cell_type": "code",
   "execution_count": 50,
   "id": "ddccc9fa-5038-4a36-91ad-59331a6b529f",
   "metadata": {},
   "outputs": [
    {
     "name": "stdout",
     "output_type": "stream",
     "text": [
      "Top candidates for JD 1\n",
      "  Candidate 1 - Similarity Score: 0.7741\n",
      "\n"
     ]
    }
   ],
   "source": [
    "# Rank candidates for each job description based on similarity scores\n",
    "num_top_candidates = 5\n",
    "top_candidates = []\n",
    "\n",
    "for i, job_description in enumerate(cleaned_descriptions):\n",
    "    candidates_with_scores = list(enumerate(similarity_scores[i]))\n",
    "    candidates_with_scores.sort(key=lambda x: x[1], reverse=True)\n",
    "    top_candidates_for_job = candidates_with_scores[:num_top_candidates]\n",
    "    top_candidates.append(top_candidates_for_job)\n",
    "\n",
    "# Print the top candidates for each job description\n",
    "for i, job_description in enumerate(cleaned_descriptions):\n",
    "    print(f\"Top candidates for JD {i+1}\")\n",
    "    for candidate_index, score in top_candidates[i]:\n",
    "        print(f\"  Candidate {candidate_index + 1} - Similarity Score: {score:.4f}\")\n",
    "        # Print additional information if needed\n",
    "        # print(f\"  Resume: {resumes[candidate_index]}\")\n",
    "    print()"
   ]
  },
  {
   "cell_type": "code",
   "execution_count": null,
   "id": "8622a751-f861-4c50-8c59-c0a560b149e8",
   "metadata": {},
   "outputs": [],
   "source": []
  },
  {
   "cell_type": "code",
   "execution_count": null,
   "id": "48cd7d8a-5e86-4f30-9d10-c52a05f61fae",
   "metadata": {},
   "outputs": [],
   "source": []
  }
 ],
 "metadata": {
  "kernelspec": {
   "display_name": "Python 3 (ipykernel)",
   "language": "python",
   "name": "python3"
  },
  "language_info": {
   "codemirror_mode": {
    "name": "ipython",
    "version": 3
   },
   "file_extension": ".py",
   "mimetype": "text/x-python",
   "name": "python",
   "nbconvert_exporter": "python",
   "pygments_lexer": "ipython3",
   "version": "3.11.5"
  }
 },
 "nbformat": 4,
 "nbformat_minor": 5
}
